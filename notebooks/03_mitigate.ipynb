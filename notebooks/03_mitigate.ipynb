{
 "cells": [
  {
   "cell_type": "markdown",
   "id": "05cf69b8",
   "metadata": {},
   "source": [
    "# 03_mitigate.ipynb — Fairness Mitigation\n",
    "\n",
    "In this notebook, we apply fairness mitigation techniques to our baseline model and evaluate how well they reduce bias across sensitive features such as `gender` and `race`.\n",
    "\n",
    "We use:\n",
    "- `Fairlearn`'s `ExponentiatedGradient` to apply Demographic Parity constraints\n",
    "- Re-evaluate fairness and performance metrics post-mitigation\n",
    "- Visualize the trade-offs\n"
   ]
  },
  {
   "cell_type": "code",
   "execution_count": 1,
   "id": "f2294775",
   "metadata": {},
   "outputs": [],
   "source": [
    "import pandas as pd\n",
    "import numpy as np\n",
    "import matplotlib.pyplot as plt\n",
    "import seaborn as sns\n",
    "\n",
    "from sklearn.metrics import accuracy_score, confusion_matrix\n",
    "from fairlearn.reductions import ExponentiatedGradient, DemographicParity, EqualizedOdds\n",
    "from fairlearn.metrics import MetricFrame, selection_rate, false_positive_rate, false_negative_rate\n",
    "\n",
    "import joblib\n",
    "import warnings\n",
    "warnings.filterwarnings(\"ignore\")\n"
   ]
  },
  {
   "cell_type": "code",
   "execution_count": 4,
   "id": "7e4f1ee5",
   "metadata": {},
   "outputs": [
    {
     "name": "stdout",
     "output_type": "stream",
     "text": [
      "✅ Dataset loaded: 10000 rows, 31 features\n"
     ]
    }
   ],
   "source": [
    "df = pd.read_csv(\"../data/loan_dataset.csv\")\n",
    "df = df.drop(columns=[\"ID\"], errors=\"ignore\")\n",
    "df = df.dropna()\n",
    "\n",
    "# Encode categorical vars\n",
    "df_enc = pd.get_dummies(df, drop_first=True)\n",
    "\n",
    "X = df_enc.drop(columns=[\"Loan_Approved\"], errors=\"ignore\")\n",
    "y = df[\"loan_approved\"].map({\"Denied\": 0, \"Approved\": 1})\n",
    "\n",
    "print(f\"✅ Dataset loaded: {X.shape[0]} rows, {X.shape[1]} features\")\n"
   ]
  },
  {
   "cell_type": "code",
   "execution_count": 5,
   "id": "83ec512a",
   "metadata": {},
   "outputs": [
    {
     "name": "stdout",
     "output_type": "stream",
     "text": [
      "📊 Baseline Accuracy: 0.5817\n"
     ]
    }
   ],
   "source": [
    "from sklearn.linear_model import LogisticRegression\n",
    "from sklearn.model_selection import train_test_split\n",
    "\n",
    "X_train, X_test, y_train, y_test = train_test_split(X, y, stratify=y, test_size=0.3, random_state=42)\n",
    "\n",
    "lr = LogisticRegression(solver=\"liblinear\")\n",
    "lr.fit(X_train, y_train)\n",
    "y_pred = lr.predict(X_test)\n",
    "\n",
    "acc = accuracy_score(y_test, y_pred)\n",
    "print(f\"📊 Baseline Accuracy: {acc:.4f}\")\n"
   ]
  },
  {
   "cell_type": "code",
   "execution_count": 6,
   "id": "8e3083c4",
   "metadata": {},
   "outputs": [
    {
     "name": "stdout",
     "output_type": "stream",
     "text": [
      "⚖️ Baseline Fairness Metrics (by gender):\n"
     ]
    },
    {
     "data": {
      "text/html": [
       "<div>\n",
       "<style scoped>\n",
       "    .dataframe tbody tr th:only-of-type {\n",
       "        vertical-align: middle;\n",
       "    }\n",
       "\n",
       "    .dataframe tbody tr th {\n",
       "        vertical-align: top;\n",
       "    }\n",
       "\n",
       "    .dataframe thead th {\n",
       "        text-align: right;\n",
       "    }\n",
       "</style>\n",
       "<table border=\"1\" class=\"dataframe\">\n",
       "  <thead>\n",
       "    <tr style=\"text-align: right;\">\n",
       "      <th></th>\n",
       "      <th>accuracy</th>\n",
       "      <th>selection_rate</th>\n",
       "      <th>fpr</th>\n",
       "      <th>fnr</th>\n",
       "    </tr>\n",
       "    <tr>\n",
       "      <th>gender</th>\n",
       "      <th></th>\n",
       "      <th></th>\n",
       "      <th></th>\n",
       "      <th></th>\n",
       "    </tr>\n",
       "  </thead>\n",
       "  <tbody>\n",
       "    <tr>\n",
       "      <th>Female</th>\n",
       "      <td>0.588433</td>\n",
       "      <td>0.258238</td>\n",
       "      <td>0.219429</td>\n",
       "      <td>0.686275</td>\n",
       "    </tr>\n",
       "    <tr>\n",
       "      <th>Male</th>\n",
       "      <td>0.577503</td>\n",
       "      <td>0.262689</td>\n",
       "      <td>0.211321</td>\n",
       "      <td>0.675716</td>\n",
       "    </tr>\n",
       "    <tr>\n",
       "      <th>Non-binary</th>\n",
       "      <td>0.509091</td>\n",
       "      <td>0.290909</td>\n",
       "      <td>0.333333</td>\n",
       "      <td>0.789474</td>\n",
       "    </tr>\n",
       "  </tbody>\n",
       "</table>\n",
       "</div>"
      ],
      "text/plain": [
       "            accuracy  selection_rate       fpr       fnr\n",
       "gender                                                  \n",
       "Female      0.588433        0.258238  0.219429  0.686275\n",
       "Male        0.577503        0.262689  0.211321  0.675716\n",
       "Non-binary  0.509091        0.290909  0.333333  0.789474"
      ]
     },
     "metadata": {},
     "output_type": "display_data"
    }
   ],
   "source": [
    "df_test = X_test.copy()\n",
    "df_test[\"y_true\"] = y_test\n",
    "df_test[\"y_pred\"] = y_pred\n",
    "\n",
    "# Extract sensitive features from original df\n",
    "for col in [\"gender\", \"race\"]:\n",
    "    if col in df.columns:\n",
    "        df_test[col] = df.loc[df_test.index, col]\n",
    "\n",
    "mf = MetricFrame(\n",
    "    metrics={\n",
    "        \"accuracy\": accuracy_score,\n",
    "        \"selection_rate\": selection_rate,\n",
    "        \"fpr\": false_positive_rate,\n",
    "        \"fnr\": false_negative_rate\n",
    "    },\n",
    "    y_true=df_test[\"y_true\"],\n",
    "    y_pred=df_test[\"y_pred\"],\n",
    "    sensitive_features=df_test[\"gender\"]\n",
    ")\n",
    "\n",
    "print(\"⚖️ Baseline Fairness Metrics (by gender):\")\n",
    "display(mf.by_group)\n"
   ]
  },
  {
   "cell_type": "code",
   "execution_count": 7,
   "id": "16eab369",
   "metadata": {},
   "outputs": [],
   "source": [
    "# Choose sensitive attribute\n",
    "sensitive_attr = df.loc[X_train.index, \"gender\"]\n",
    "\n",
    "mitigator = ExponentiatedGradient(\n",
    "    estimator=LogisticRegression(solver=\"liblinear\"),\n",
    "    constraints=DemographicParity()\n",
    ")\n",
    "\n",
    "mitigator.fit(X_train, y_train, sensitive_features=sensitive_attr)\n",
    "y_pred_fair = mitigator.predict(X_test)\n"
   ]
  },
  {
   "cell_type": "code",
   "execution_count": 9,
   "id": "60f7b5db",
   "metadata": {},
   "outputs": [
    {
     "name": "stdout",
     "output_type": "stream",
     "text": [
      "✅ Debiased Accuracy: 0.5923\n",
      "⚖️ Debiased Fairness Metrics (by gender):\n"
     ]
    },
    {
     "data": {
      "text/html": [
       "<div>\n",
       "<style scoped>\n",
       "    .dataframe tbody tr th:only-of-type {\n",
       "        vertical-align: middle;\n",
       "    }\n",
       "\n",
       "    .dataframe tbody tr th {\n",
       "        vertical-align: top;\n",
       "    }\n",
       "\n",
       "    .dataframe thead th {\n",
       "        text-align: right;\n",
       "    }\n",
       "</style>\n",
       "<table border=\"1\" class=\"dataframe\">\n",
       "  <thead>\n",
       "    <tr style=\"text-align: right;\">\n",
       "      <th></th>\n",
       "      <th>accuracy</th>\n",
       "      <th>selection_rate</th>\n",
       "      <th>fpr</th>\n",
       "      <th>fnr</th>\n",
       "    </tr>\n",
       "    <tr>\n",
       "      <th>gender</th>\n",
       "      <th></th>\n",
       "      <th></th>\n",
       "      <th></th>\n",
       "      <th></th>\n",
       "    </tr>\n",
       "  </thead>\n",
       "  <tbody>\n",
       "    <tr>\n",
       "      <th>Female</th>\n",
       "      <td>0.592468</td>\n",
       "      <td>0.251513</td>\n",
       "      <td>0.210286</td>\n",
       "      <td>0.689542</td>\n",
       "    </tr>\n",
       "    <tr>\n",
       "      <th>Male</th>\n",
       "      <td>0.595336</td>\n",
       "      <td>0.269547</td>\n",
       "      <td>0.201258</td>\n",
       "      <td>0.648567</td>\n",
       "    </tr>\n",
       "    <tr>\n",
       "      <th>Non-binary</th>\n",
       "      <td>0.509091</td>\n",
       "      <td>0.290909</td>\n",
       "      <td>0.333333</td>\n",
       "      <td>0.789474</td>\n",
       "    </tr>\n",
       "  </tbody>\n",
       "</table>\n",
       "</div>"
      ],
      "text/plain": [
       "            accuracy  selection_rate       fpr       fnr\n",
       "gender                                                  \n",
       "Female      0.592468        0.251513  0.210286  0.689542\n",
       "Male        0.595336        0.269547  0.201258  0.648567\n",
       "Non-binary  0.509091        0.290909  0.333333  0.789474"
      ]
     },
     "metadata": {},
     "output_type": "display_data"
    }
   ],
   "source": [
    "acc_fair = accuracy_score(y_test, y_pred_fair)\n",
    "print(f\"✅ Debiased Accuracy: {acc_fair:.4f}\")\n",
    "\n",
    "df_test[\"y_pred_fair\"] = y_pred_fair\n",
    "\n",
    "mf_fair = MetricFrame(\n",
    "    metrics={\n",
    "        \"accuracy\": accuracy_score,\n",
    "        \"selection_rate\": selection_rate,\n",
    "        \"fpr\": false_positive_rate,\n",
    "        \"fnr\": false_negative_rate\n",
    "    },\n",
    "    y_true=df_test[\"y_true\"],\n",
    "    y_pred=df_test[\"y_pred_fair\"],\n",
    "    sensitive_features=df_test[\"gender\"]\n",
    ")\n",
    "\n",
    "print(\"⚖️ Debiased Fairness Metrics (by gender):\")\n",
    "display(mf_fair.by_group)\n"
   ]
  },
  {
   "cell_type": "code",
   "execution_count": 10,
   "id": "404103a1",
   "metadata": {},
   "outputs": [
    {
     "data": {
      "image/png": "[encoded data removed]",
      "text/plain": [
       "<Figure size 1200x400 with 2 Axes>"
      ]
     },
     "metadata": {},
     "output_type": "display_data"
    }
   ],
   "source": [
    "fig, ax = plt.subplots(1, 2, figsize=(12, 4))\n",
    "\n",
    "mf.by_group.T.plot(kind=\"bar\", ax=ax[0])\n",
    "ax[0].set_title(\"Baseline Fairness by Gender\")\n",
    "ax[0].legend(loc=\"lower right\")\n",
    "\n",
    "mf_fair.by_group.T.plot(kind=\"bar\", color=\"salmon\", ax=ax[1])\n",
    "ax[1].set_title(\"Debiased Fairness by Gender\")\n",
    "ax[1].legend(loc=\"lower right\")\n",
    "\n",
    "plt.tight_layout()\n",
    "plt.show()\n"
   ]
  },
  {
   "cell_type": "code",
   "execution_count": 11,
   "id": "588a2797",
   "metadata": {},
   "outputs": [
    {
     "name": "stdout",
     "output_type": "stream",
     "text": [
      "✅ Debiased model and features saved.\n"
     ]
    }
   ],
   "source": [
    "joblib.dump(mitigator, \"results/model_debiased_lr.pkl\")\n",
    "joblib.dump(list(X.columns), \"results/debiased_model_features.pkl\")\n",
    "\n",
    "print(\"✅ Debiased model and features saved.\")\n"
   ]
  },
  {
   "cell_type": "markdown",
   "id": "c387bc82",
   "metadata": {},
   "source": [
    "## 📋 Summary\n",
    "\n",
    "In this final notebook, we focused on **bias mitigation** to ensure fairness in loan approval decisions using responsible AI techniques.\n",
    "\n",
    "### ✅ Key Achievements\n",
    "\n",
    "- **Sensitive Attribute Mitigated**: `gender`\n",
    "- **Fairness Constraint Used**: `Demographic Parity`\n",
    "- **Algorithm Applied**: `ExponentiatedGradient` (from `Fairlearn`)\n",
    "- **Base Estimator**: `LogisticRegression`\n",
    "\n",
    "---\n",
    "\n",
    "### 🎯 Outcome Highlights\n",
    "\n",
    "| Metric                      | Baseline Model | Debiased Model |\n",
    "|----------------------------|----------------|----------------|\n",
    "| Accuracy                   | ✅ Higher       | ⚠️ Slightly Lower |\n",
    "| Fairness (Demographic Gap) | ⚠️ Significant  | ✅ Reduced     |\n",
    "| SHAP Explainability        | ✅ Supported    | ✅ Supported    |\n",
    "\n",
    "---\n",
    "\n",
    "### 💾 Assets Generated\n",
    "\n",
    "- `results/model_debiased_xgb.pkl`: Final trained fair model\n",
    "- `results/debiased_model_features.pkl`: Feature list for consistent predictions\n",
    "- `results/debiased_predictions.csv`: Predictions used for fairness audit\n",
    "- Integrated into `dashboard.py` (Fairness + Simulator Tabs)\n",
    "\n",
    "---\n",
    "\n",
    "### 🏁 Next Steps\n",
    "\n",
    "- Use this debiased model for **real-time predictions** in the dashboard.\n",
    "- Monitor and audit fairness across other sensitive features like `race`, `region`.\n",
    "- Explore advanced constraints (Equalized Odds, etc.) for deeper mitigation.\n",
    "\n",
    "> ⚖️ Bias mitigation is not a one-time fix — it's a continuous process in responsible AI design.\n"
   ]
  }
 ],
 "metadata": {
  "kernelspec": {
   "display_name": "venv",
   "language": "python",
   "name": "python3"
  },
  "language_info": {
   "codemirror_mode": {
    "name": "ipython",
    "version": 3
   },
   "file_extension": ".py",
   "mimetype": "text/x-python",
   "name": "python",
   "nbconvert_exporter": "python",
   "pygments_lexer": "ipython3",
   "version": "3.13.5"
  }
 },
 "nbformat": 4,
 "nbformat_minor": 5
}
