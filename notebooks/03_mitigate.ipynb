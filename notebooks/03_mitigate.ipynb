{
 "cells": [
  {
   "cell_type": "code",
   "execution_count": 1,
   "id": "f2294775",
   "metadata": {},
   "outputs": [
    {
     "name": "stderr",
     "output_type": "stream",
     "text": [
      "WARNING:root:No module named 'tensorflow': AdversarialDebiasing will be unavailable. To install, run:\n",
      "pip install 'aif360[AdversarialDebiasing]'\n",
      "WARNING:root:No module named 'tensorflow': AdversarialDebiasing will be unavailable. To install, run:\n",
      "pip install 'aif360[AdversarialDebiasing]'\n",
      "WARNING:root:No module named 'inFairness': SenSeI and SenSR will be unavailable. To install, run:\n",
      "pip install 'aif360[inFairness]'\n"
     ]
    }
   ],
   "source": [
    "# 🚀 Step 1: Imports & Setup\n",
    "import pandas as pd, numpy as np, joblib, os\n",
    "from aif360.algorithms.preprocessing import Reweighing\n",
    "from aif360.datasets import StandardDataset\n",
    "from sklearn.model_selection import train_test_split\n",
    "from sklearn.metrics import accuracy_score\n",
    "import xgboost as xgb\n"
   ]
  },
  {
   "cell_type": "code",
   "execution_count": 3,
   "id": "7e4f1ee5",
   "metadata": {},
   "outputs": [],
   "source": [
    "# 📥 Step 2: Load and Prepare Data\n",
    "df = pd.read_csv(\"../data/loan_dataset.csv\")\n",
    "features = ['age','income','loan_amount','credit_score','gender','race','region']\n",
    "X = df[features].copy()\n",
    "y = df['loan_approved']\n"
   ]
  },
  {
   "cell_type": "code",
   "execution_count": 4,
   "id": "83ec512a",
   "metadata": {},
   "outputs": [],
   "source": [
    "# 🔄 Step 3: One-hot Encode Features\n",
    "X_encoded = pd.get_dummies(X, drop_first=True)\n",
    "X_train, X_test, y_train, y_test = train_test_split(X_encoded, y, test_size=0.2, random_state=42)\n"
   ]
  },
  {
   "cell_type": "code",
   "execution_count": 7,
   "id": "8e3083c4",
   "metadata": {},
   "outputs": [],
   "source": [
    "# ⚖️ Step 4: Encode and Convert to AIF360 Dataset for Reweighing\n",
    "df_aif = df.copy()\n",
    "\n",
    "# Convert protected attribute (gender) to binary: Male=1, Female=0\n",
    "df_aif['gender'] = df_aif['gender'].map({'Male': 1, 'Female': 0})\n",
    "\n",
    "# If needed, drop or encode other string columns (not required by AIF360 directly)\n",
    "# AIF360 will drop extra columns not in features/label\n",
    "\n",
    "dataset = StandardDataset(\n",
    "    df_aif,\n",
    "    label_name='loan_approved',\n",
    "    favorable_classes=[1],\n",
    "    protected_attribute_names=['gender'],\n",
    "    privileged_classes=[[1]],  # Male = privileged\n",
    "    features_to_drop=['race', 'region']  # Drop string cols that are not encoded\n",
    ")\n"
   ]
  },
  {
   "cell_type": "code",
   "execution_count": 8,
   "id": "16eab369",
   "metadata": {},
   "outputs": [],
   "source": [
    "# 🧪 Step 5: Split into Train/Test AIF360 Format\n",
    "train, test = dataset.split([0.8], shuffle=True)\n"
   ]
  },
  {
   "cell_type": "code",
   "execution_count": 9,
   "id": "60f7b5db",
   "metadata": {},
   "outputs": [],
   "source": [
    "# 🧰 Step 6: Apply Reweighing\n",
    "RW = Reweighing(unprivileged_groups=[{protected: 0}], privileged_groups=[{protected: 1}])\n",
    "RW.fit(train)\n",
    "train_rw = RW.transform(train)\n"
   ]
  },
  {
   "cell_type": "code",
   "execution_count": 11,
   "id": "404103a1",
   "metadata": {},
   "outputs": [
    {
     "name": "stdout",
     "output_type": "stream",
     "text": [
      "✅ Debiased model retrained using reweighed data.\n"
     ]
    }
   ],
   "source": [
    "# 🧠 Step 7: Retrain XGBoost on Reweighed Data\n",
    "X_train_rw = pd.DataFrame(train_rw.features, columns=train_rw.feature_names)\n",
    "X_train_rw = pd.get_dummies(X_train_rw, drop_first=True)\n",
    "\n",
    "y_train_rw = train_rw.labels.ravel()\n",
    "sample_weights = train_rw.instance_weights\n",
    "\n",
    "model_rw = xgb.XGBClassifier(random_state=42)\n",
    "model_rw.fit(X_train_rw, y_train_rw, sample_weight=sample_weights)\n",
    "\n",
    "print(\"✅ Debiased model retrained using reweighed data.\")\n"
   ]
  },
  {
   "cell_type": "code",
   "execution_count": 13,
   "id": "588a2797",
   "metadata": {},
   "outputs": [
    {
     "name": "stdout",
     "output_type": "stream",
     "text": [
      "✅ Debiased predictions saved to results/debiased_predictions.csv\n"
     ]
    }
   ],
   "source": [
    "# 🧾 Step 8: Predict and Save Debiased Predictions\n",
    "X_test_enc = pd.get_dummies(X_test, drop_first=True)\n",
    "\n",
    "# Align test set with training columns\n",
    "X_test_enc = X_test_enc.reindex(columns=X_train_rw.columns, fill_value=0)\n",
    "\n",
    "y_pred_rw = model_rw.predict(X_test_enc)\n",
    "y_prob_rw = model_rw.predict_proba(X_test_enc)[:, 1]\n",
    "\n",
    "df_debiased_preds = pd.DataFrame({\n",
    "    'y_true': y_test.values,\n",
    "    'y_pred': y_pred_rw,\n",
    "    'y_prob': y_prob_rw\n",
    "})\n",
    "\n",
    "df_debiased_preds.to_csv(\"results/debiased_predictions.csv\", index=False)\n",
    "print(\"✅ Debiased predictions saved to results/debiased_predictions.csv\")\n"
   ]
  },
  {
   "cell_type": "code",
   "execution_count": 15,
   "id": "c8532ca8",
   "metadata": {},
   "outputs": [
    {
     "name": "stdout",
     "output_type": "stream",
     "text": [
      "✅ Debiased predictions & model saved.\n"
     ]
    }
   ],
   "source": [
    "# 💾 Step 9: Save Outputs\n",
    "import joblib\n",
    "import os\n",
    "\n",
    "os.makedirs(\"../results\", exist_ok=True)\n",
    "\n",
    "pd.DataFrame({\n",
    "    \"y_true\": y_test.values,\n",
    "    \"y_pred\": y_pred_rw,\n",
    "    \"y_prob\": y_prob_rw\n",
    "}).to_csv(\"../results/debiased_predictions.csv\", index=False)\n",
    "\n",
    "joblib.dump(model_rw, \"../results/model_xgb_debiased.pkl\")\n",
    "\n",
    "print(\"✅ Debiased predictions & model saved.\")\n"
   ]
  }
 ],
 "metadata": {
  "kernelspec": {
   "display_name": "venv",
   "language": "python",
   "name": "python3"
  },
  "language_info": {
   "codemirror_mode": {
    "name": "ipython",
    "version": 3
   },
   "file_extension": ".py",
   "mimetype": "text/x-python",
   "name": "python",
   "nbconvert_exporter": "python",
   "pygments_lexer": "ipython3",
   "version": "3.13.5"
  }
 },
 "nbformat": 4,
 "nbformat_minor": 5
}
