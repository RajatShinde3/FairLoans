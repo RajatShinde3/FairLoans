{
 "cells": [
  {
   "cell_type": "code",
   "execution_count": 1,
   "id": "21b6d5b0",
   "metadata": {},
   "outputs": [],
   "source": [
    "# 📚 Step 1: Imports\n",
    "import pandas as pd\n",
    "import matplotlib.pyplot as plt\n",
    "import seaborn as sns\n",
    "from fairlearn.metrics import MetricFrame, selection_rate, false_positive_rate, false_negative_rate\n",
    "from sklearn.metrics import accuracy_score\n"
   ]
  },
  {
   "cell_type": "code",
   "execution_count": 2,
   "id": "5a26509a",
   "metadata": {},
   "outputs": [
    {
     "data": {
      "text/html": [
       "<div>\n",
       "<style scoped>\n",
       "    .dataframe tbody tr th:only-of-type {\n",
       "        vertical-align: middle;\n",
       "    }\n",
       "\n",
       "    .dataframe tbody tr th {\n",
       "        vertical-align: top;\n",
       "    }\n",
       "\n",
       "    .dataframe thead th {\n",
       "        text-align: right;\n",
       "    }\n",
       "</style>\n",
       "<table border=\"1\" class=\"dataframe\">\n",
       "  <thead>\n",
       "    <tr style=\"text-align: right;\">\n",
       "      <th></th>\n",
       "      <th>age</th>\n",
       "      <th>income</th>\n",
       "      <th>loan_amount</th>\n",
       "      <th>credit_score</th>\n",
       "      <th>gender</th>\n",
       "      <th>race</th>\n",
       "      <th>region</th>\n",
       "      <th>loan_approved</th>\n",
       "      <th>y_true</th>\n",
       "      <th>y_pred</th>\n",
       "      <th>y_prob</th>\n",
       "    </tr>\n",
       "  </thead>\n",
       "  <tbody>\n",
       "    <tr>\n",
       "      <th>0</th>\n",
       "      <td>59</td>\n",
       "      <td>46646</td>\n",
       "      <td>28139</td>\n",
       "      <td>836</td>\n",
       "      <td>Female</td>\n",
       "      <td>White</td>\n",
       "      <td>Suburban</td>\n",
       "      <td>1</td>\n",
       "      <td>1</td>\n",
       "      <td>1</td>\n",
       "      <td>0.855555</td>\n",
       "    </tr>\n",
       "    <tr>\n",
       "      <th>1</th>\n",
       "      <td>49</td>\n",
       "      <td>43049</td>\n",
       "      <td>12613</td>\n",
       "      <td>765</td>\n",
       "      <td>Male</td>\n",
       "      <td>Other</td>\n",
       "      <td>Urban</td>\n",
       "      <td>1</td>\n",
       "      <td>1</td>\n",
       "      <td>1</td>\n",
       "      <td>0.898416</td>\n",
       "    </tr>\n",
       "    <tr>\n",
       "      <th>2</th>\n",
       "      <td>35</td>\n",
       "      <td>99605</td>\n",
       "      <td>11589</td>\n",
       "      <td>388</td>\n",
       "      <td>Male</td>\n",
       "      <td>Hispanic</td>\n",
       "      <td>Urban</td>\n",
       "      <td>0</td>\n",
       "      <td>0</td>\n",
       "      <td>1</td>\n",
       "      <td>0.630427</td>\n",
       "    </tr>\n",
       "    <tr>\n",
       "      <th>3</th>\n",
       "      <td>63</td>\n",
       "      <td>118116</td>\n",
       "      <td>14918</td>\n",
       "      <td>567</td>\n",
       "      <td>Male</td>\n",
       "      <td>Hispanic</td>\n",
       "      <td>Rural</td>\n",
       "      <td>1</td>\n",
       "      <td>1</td>\n",
       "      <td>1</td>\n",
       "      <td>0.802063</td>\n",
       "    </tr>\n",
       "    <tr>\n",
       "      <th>4</th>\n",
       "      <td>28</td>\n",
       "      <td>117379</td>\n",
       "      <td>21119</td>\n",
       "      <td>788</td>\n",
       "      <td>Male</td>\n",
       "      <td>Other</td>\n",
       "      <td>Rural</td>\n",
       "      <td>1</td>\n",
       "      <td>1</td>\n",
       "      <td>0</td>\n",
       "      <td>0.462140</td>\n",
       "    </tr>\n",
       "  </tbody>\n",
       "</table>\n",
       "</div>"
      ],
      "text/plain": [
       "   age  income  loan_amount  credit_score  gender      race    region  \\\n",
       "0   59   46646        28139           836  Female     White  Suburban   \n",
       "1   49   43049        12613           765    Male     Other     Urban   \n",
       "2   35   99605        11589           388    Male  Hispanic     Urban   \n",
       "3   63  118116        14918           567    Male  Hispanic     Rural   \n",
       "4   28  117379        21119           788    Male     Other     Rural   \n",
       "\n",
       "   loan_approved  y_true  y_pred    y_prob  \n",
       "0              1       1       1  0.855555  \n",
       "1              1       1       1  0.898416  \n",
       "2              0       0       1  0.630427  \n",
       "3              1       1       1  0.802063  \n",
       "4              1       1       0  0.462140  "
      ]
     },
     "execution_count": 2,
     "metadata": {},
     "output_type": "execute_result"
    }
   ],
   "source": [
    "# 📂 Step 2: Load Data + Predictions\n",
    "df_data  = pd.read_csv(\"../data/loan_dataset.csv\")\n",
    "df_preds = pd.read_csv(\"../results/baseline_predictions.csv\")\n",
    "df       = pd.concat([df_data, df_preds], axis=1)\n",
    "df.head()\n"
   ]
  },
  {
   "cell_type": "code",
   "execution_count": 3,
   "id": "4ec5bf5b",
   "metadata": {},
   "outputs": [
    {
     "name": "stdout",
     "output_type": "stream",
     "text": [
      "🎯 Overall Accuracy: 0.834\n"
     ]
    }
   ],
   "source": [
    "# 👀 Step 3: Overall Accuracy\n",
    "overall_acc = accuracy_score(df['y_true'], df['y_pred'])\n",
    "print(f\"🎯 Overall Accuracy: {overall_acc:.3f}\")\n"
   ]
  },
  {
   "cell_type": "code",
   "execution_count": 4,
   "id": "dfa27cf2",
   "metadata": {},
   "outputs": [
    {
     "data": {
      "text/html": [
       "<div>\n",
       "<style scoped>\n",
       "    .dataframe tbody tr th:only-of-type {\n",
       "        vertical-align: middle;\n",
       "    }\n",
       "\n",
       "    .dataframe tbody tr th {\n",
       "        vertical-align: top;\n",
       "    }\n",
       "\n",
       "    .dataframe thead th {\n",
       "        text-align: right;\n",
       "    }\n",
       "</style>\n",
       "<table border=\"1\" class=\"dataframe\">\n",
       "  <thead>\n",
       "    <tr style=\"text-align: right;\">\n",
       "      <th></th>\n",
       "      <th>accuracy</th>\n",
       "      <th>selection_rate</th>\n",
       "      <th>false_positive_rate</th>\n",
       "      <th>false_negative_rate</th>\n",
       "    </tr>\n",
       "    <tr>\n",
       "      <th>gender</th>\n",
       "      <th></th>\n",
       "      <th></th>\n",
       "      <th></th>\n",
       "      <th></th>\n",
       "    </tr>\n",
       "  </thead>\n",
       "  <tbody>\n",
       "    <tr>\n",
       "      <th>Female</th>\n",
       "      <td>0.853846</td>\n",
       "      <td>0.607692</td>\n",
       "      <td>0.166667</td>\n",
       "      <td>0.134146</td>\n",
       "    </tr>\n",
       "    <tr>\n",
       "      <th>Male</th>\n",
       "      <td>0.812500</td>\n",
       "      <td>0.633333</td>\n",
       "      <td>0.258427</td>\n",
       "      <td>0.145695</td>\n",
       "    </tr>\n",
       "  </tbody>\n",
       "</table>\n",
       "</div>"
      ],
      "text/plain": [
       "        accuracy  selection_rate  false_positive_rate  false_negative_rate\n",
       "gender                                                                    \n",
       "Female  0.853846        0.607692             0.166667             0.134146\n",
       "Male    0.812500        0.633333             0.258427             0.145695"
      ]
     },
     "execution_count": 4,
     "metadata": {},
     "output_type": "execute_result"
    }
   ],
   "source": [
    "# 🧮 Step 4: Compute Bias Metrics (by Gender)\n",
    "metrics_gender = MetricFrame(\n",
    "    metrics={\n",
    "        \"accuracy\": accuracy_score,\n",
    "        \"selection_rate\": selection_rate,\n",
    "        \"false_positive_rate\": false_positive_rate,\n",
    "        \"false_negative_rate\": false_negative_rate\n",
    "    },\n",
    "    y_true=df[\"y_true\"],\n",
    "    y_pred=df[\"y_pred\"],\n",
    "    sensitive_features=df[\"gender\"]\n",
    ")\n",
    "\n",
    "metrics_gender.by_group\n"
   ]
  },
  {
   "cell_type": "code",
   "execution_count": 5,
   "id": "326240d9",
   "metadata": {},
   "outputs": [
    {
     "data": {
      "image/png": "[encoded data removed]",
      "text/plain": [
       "<Figure size 1000x600 with 1 Axes>"
      ]
     },
     "metadata": {},
     "output_type": "display_data"
    }
   ],
   "source": [
    "# 📊 Step 5: Visualize Bias Metrics (by Gender)\n",
    "metrics_gender.by_group.plot(kind=\"bar\", figsize=(10,6))\n",
    "plt.title(\"Bias Metrics by Gender\")\n",
    "plt.ylabel(\"Metric Value\")\n",
    "plt.xticks(rotation=0)\n",
    "plt.grid(axis=\"y\")\n",
    "plt.tight_layout()\n",
    "plt.show()\n"
   ]
  },
  {
   "cell_type": "code",
   "execution_count": 6,
   "id": "a0f83b41",
   "metadata": {},
   "outputs": [
    {
     "data": {
      "text/html": [
       "<div>\n",
       "<style scoped>\n",
       "    .dataframe tbody tr th:only-of-type {\n",
       "        vertical-align: middle;\n",
       "    }\n",
       "\n",
       "    .dataframe tbody tr th {\n",
       "        vertical-align: top;\n",
       "    }\n",
       "\n",
       "    .dataframe thead th {\n",
       "        text-align: right;\n",
       "    }\n",
       "</style>\n",
       "<table border=\"1\" class=\"dataframe\">\n",
       "  <thead>\n",
       "    <tr style=\"text-align: right;\">\n",
       "      <th></th>\n",
       "      <th>accuracy</th>\n",
       "      <th>selection_rate</th>\n",
       "      <th>false_positive_rate</th>\n",
       "      <th>false_negative_rate</th>\n",
       "    </tr>\n",
       "    <tr>\n",
       "      <th>race</th>\n",
       "      <th></th>\n",
       "      <th></th>\n",
       "      <th></th>\n",
       "      <th></th>\n",
       "    </tr>\n",
       "  </thead>\n",
       "  <tbody>\n",
       "    <tr>\n",
       "      <th>Asian</th>\n",
       "      <td>0.885057</td>\n",
       "      <td>0.609195</td>\n",
       "      <td>0.166667</td>\n",
       "      <td>0.078431</td>\n",
       "    </tr>\n",
       "    <tr>\n",
       "      <th>Black</th>\n",
       "      <td>0.890000</td>\n",
       "      <td>0.620000</td>\n",
       "      <td>0.135135</td>\n",
       "      <td>0.095238</td>\n",
       "    </tr>\n",
       "    <tr>\n",
       "      <th>Hispanic</th>\n",
       "      <td>0.828829</td>\n",
       "      <td>0.630631</td>\n",
       "      <td>0.225000</td>\n",
       "      <td>0.140845</td>\n",
       "    </tr>\n",
       "    <tr>\n",
       "      <th>Other</th>\n",
       "      <td>0.770642</td>\n",
       "      <td>0.587156</td>\n",
       "      <td>0.250000</td>\n",
       "      <td>0.217391</td>\n",
       "    </tr>\n",
       "    <tr>\n",
       "      <th>White</th>\n",
       "      <td>0.806452</td>\n",
       "      <td>0.655914</td>\n",
       "      <td>0.281250</td>\n",
       "      <td>0.147541</td>\n",
       "    </tr>\n",
       "  </tbody>\n",
       "</table>\n",
       "</div>"
      ],
      "text/plain": [
       "          accuracy  selection_rate  false_positive_rate  false_negative_rate\n",
       "race                                                                        \n",
       "Asian     0.885057        0.609195             0.166667             0.078431\n",
       "Black     0.890000        0.620000             0.135135             0.095238\n",
       "Hispanic  0.828829        0.630631             0.225000             0.140845\n",
       "Other     0.770642        0.587156             0.250000             0.217391\n",
       "White     0.806452        0.655914             0.281250             0.147541"
      ]
     },
     "execution_count": 6,
     "metadata": {},
     "output_type": "execute_result"
    }
   ],
   "source": [
    "# 📊 Step 6: Bias Metrics (by Race)\n",
    "metrics_race = MetricFrame(\n",
    "    metrics={\n",
    "        \"accuracy\": accuracy_score,\n",
    "        \"selection_rate\": selection_rate,\n",
    "        \"false_positive_rate\": false_positive_rate,\n",
    "        \"false_negative_rate\": false_negative_rate\n",
    "    },\n",
    "    y_true=df[\"y_true\"],\n",
    "    y_pred=df[\"y_pred\"],\n",
    "    sensitive_features=df[\"race\"]\n",
    ")\n",
    "\n",
    "metrics_race.by_group\n"
   ]
  },
  {
   "cell_type": "code",
   "execution_count": 7,
   "id": "4f2464b1",
   "metadata": {},
   "outputs": [
    {
     "data": {
      "image/png": "[encoded data removed]",
      "text/plain": [
       "<Figure size 1200x600 with 1 Axes>"
      ]
     },
     "metadata": {},
     "output_type": "display_data"
    }
   ],
   "source": [
    "# 🖼️ Step 7: Visualize Bias Metrics (by Race)\n",
    "metrics_race.by_group.plot(kind=\"bar\", figsize=(12,6))\n",
    "plt.title(\"Bias Metrics by Race\")\n",
    "plt.ylabel(\"Metric Value\")\n",
    "plt.xticks(rotation=45)\n",
    "plt.grid(axis=\"y\")\n",
    "plt.tight_layout()\n",
    "plt.show()\n"
   ]
  },
  {
   "cell_type": "code",
   "execution_count": 9,
   "id": "bc3d4ed9",
   "metadata": {},
   "outputs": [
    {
     "name": "stdout",
     "output_type": "stream",
     "text": [
      "✅ Fairness metrics saved to results/fairness_baseline.md\n"
     ]
    }
   ],
   "source": [
    "# 📌 Step 8: Save Metrics to Markdown Report\n",
    "with open(\"../results/fairness_baseline.md\", \"w\") as f:\n",
    "    f.write(\"### Fairness Audit for Baseline Model\\n\\n\")\n",
    "    f.write(\"**By Gender**\\n\\n\")\n",
    "    f.write(metrics_gender.by_group.to_markdown())\n",
    "    f.write(\"\\n\\n**By Race**\\n\\n\")\n",
    "    f.write(metrics_race.by_group.to_markdown())\n",
    "\n",
    "print(\"✅ Fairness metrics saved to results/fairness_baseline.md\")\n"
   ]
  }
 ],
 "metadata": {
  "kernelspec": {
   "display_name": "venv",
   "language": "python",
   "name": "python3"
  },
  "language_info": {
   "codemirror_mode": {
    "name": "ipython",
    "version": 3
   },
   "file_extension": ".py",
   "mimetype": "text/x-python",
   "name": "python",
   "nbconvert_exporter": "python",
   "pygments_lexer": "ipython3",
   "version": "3.13.5"
  }
 },
 "nbformat": 4,
 "nbformat_minor": 5
}
